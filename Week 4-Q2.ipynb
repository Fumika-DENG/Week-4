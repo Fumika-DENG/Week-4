{
 "cells": [
  {
   "cell_type": "code",
   "execution_count": null,
   "id": "bd29ed45-78b6-4b8c-9a6c-c7e03fcba125",
   "metadata": {},
   "outputs": [],
   "source": [
    "graph = {}\n",
    "\n",
    "with open(\"pages_large.txt\", \"r\", encoding = \"utf-8\") as f:\n",
    "    datas = [tmp.strip().split() for tmp in f.readlines()]\n",
    "    for tmp in datas:\n",
    "        graph[tmp[0]] = {\"now\":1.0, \"new\": 0, \"links\":set()}   ##use set() to avoid 重複\n",
    "\n",
    "\n",
    "with open(\"links_large.txt\", \"r\", encoding = \"utf-8\") as f:\n",
    "    datas = [tmp.strip().split() for tmp in f.readlines()]\n",
    "    for tmp in datas:\n",
    "        graph[tmp[0]][\"links\"].add(tmp[1]) #我怎么精准对应加进去的，为什么不是直接按links里的顺序加，是怎么找到page1然后精准加他的\n",
    "                             "
   ]
  },
  {
   "cell_type": "code",
   "execution_count": null,
   "id": "c75ceae9-8dc0-41cc-bf03-e717ef8c44e0",
   "metadata": {},
   "outputs": [],
   "source": [
    "change_score = 100\n",
    "#def find_most_popualar_pages():\n",
    "\n",
    "#total = new_page_rank[i] - ole_page_rank[i]\n",
    "\n",
    "    \n",
    "while change_score > 0.01:\n",
    "    total = 0\n",
    "    for key in graph:\n",
    "        now = graph[key][\"now\"]\n",
    "        number = len(graph[key][\"links\"])\n",
    "        if number == 0:\n",
    "            continue\n",
    "        value = now/number\n",
    "        for node in graph[key][\"links\"]:\n",
    "            graph[node][\"new\"] += value\n",
    "\n",
    "    for key in graph:\n",
    "        total += (graph[key][\"new\"] - graph[key][\"now\"])**2\n",
    "        graph[key][\"now\"] = graph[key][\"new\"]\n",
    "        graph[key][\"new\"] = 0\n",
    "\n",
    "    change_score = total\n",
    "    print(change_score)\n",
    "\n",
    "result = sorted(graph, key=lambda x: graph[x][\"now\"], reverse=True)\n",
    "print(result[:10])\n",
    "\n",
    "                \n",
    "                \n",
    "\n",
    "#now=link nodeからの値\n",
    "#prev/numberは自分から向いてるページへの値\n",
    "\n",
    "\n",
    "\n",
    "##重要度の高いページトップ 10 ------順番にsetした後print([:10])\n"
   ]
  },
  {
   "cell_type": "code",
   "execution_count": null,
   "id": "a8ce8ee2-f643-4c7c-a8e3-808dae36e2e2",
   "metadata": {},
   "outputs": [],
   "source": []
  }
 ],
 "metadata": {
  "kernelspec": {
   "display_name": "Python 3 (ipykernel)",
   "language": "python",
   "name": "python3"
  },
  "language_info": {
   "codemirror_mode": {
    "name": "ipython",
    "version": 3
   },
   "file_extension": ".py",
   "mimetype": "text/x-python",
   "name": "python",
   "nbconvert_exporter": "python",
   "pygments_lexer": "ipython3",
   "version": "3.12.4"
  }
 },
 "nbformat": 4,
 "nbformat_minor": 5
}
