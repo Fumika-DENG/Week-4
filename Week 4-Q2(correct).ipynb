{
 "cells": [
  {
   "cell_type": "code",
   "execution_count": 17,
   "id": "bd29ed45-78b6-4b8c-9a6c-c7e03fcba125",
   "metadata": {},
   "outputs": [
    {
     "name": "stdout",
     "output_type": "stream",
     "text": [
      "{'1': {'now': 1.0, 'new': 0, 'links': {'2'}}, '2': {'now': 1.0, 'new': 0, 'links': {'4', '3'}}, '3': {'now': 1.0, 'new': 0, 'links': {'5', '6', '2', '1'}}, '4': {'now': 1.0, 'new': 0, 'links': {'6', '2', '5'}}, '5': {'now': 1.0, 'new': 0, 'links': {'4'}}, '6': {'now': 1.0, 'new': 0, 'links': {'3'}}}\n"
     ]
    }
   ],
   "source": [
    "graph = {}\n",
    "\n",
    "with open(\"pages_small.txt\", \"r\", encoding = \"utf-8\") as f:\n",
    "    datas = [tmp.strip().split() for tmp in f.readlines()]\n",
    "    for tmp in datas:\n",
    "        graph[tmp[0]] = {\"now\":1.0, \"new\": 0, \"links\":set()}   ##use set() to avoid 重複\n",
    "\n",
    "\n",
    "with open(\"links_small.txt\", \"r\", encoding = \"utf-8\") as f:\n",
    "    datas = [tmp.strip().split() for tmp in f.readlines()]\n",
    "    for tmp in datas:\n",
    "        graph[tmp[0]][\"links\"].add(tmp[1]) #我怎么精准对应加进去的，为什么不是直接按links里的顺序加，是怎么找到page1然后精准加他的\n",
    "\n",
    "print(graph)\n",
    "                             "
   ]
  },
  {
   "cell_type": "code",
   "execution_count": 21,
   "id": "c75ceae9-8dc0-41cc-bf03-e717ef8c44e0",
   "metadata": {},
   "outputs": [
    {
     "name": "stdout",
     "output_type": "stream",
     "text": [
      "2.829791666666665\n",
      "1.6361802734374984\n",
      "0.2782554995320637\n",
      "0.1570457274028842\n",
      "0.0847204958198347\n",
      "0.044797770203880614\n",
      "0.02359920467506666\n",
      "0.012423825713609594\n",
      "0.0065398030342410825\n",
      "['3', '4', '2', '5', '6', '1']\n"
     ]
    }
   ],
   "source": [
    "change_score = 100\n",
    "#def find_most_popualar_pages():\n",
    "\n",
    "#total = new_page_rank[i] - ole_page_rank[i]\n",
    "\n",
    "    \n",
    "while change_score > 0.01:\n",
    "    total = 0\n",
    "    for key in graph:\n",
    "        now = graph[key][\"now\"]\n",
    "        number = len(graph[key][\"links\"])\n",
    "        if number == 0:\n",
    "            value_nonumber = now/len(graph)\n",
    "            for node in graph:\n",
    "                graph[node][\"new\"] += value_nonumber\n",
    "                continue\n",
    "\n",
    "        value_node = 0.85*now/number\n",
    "        value_every = 0.15*now/len(graph)\n",
    "            \n",
    "        for node in graph[key][\"links\"]:\n",
    "            graph[node][\"new\"] += value_node   #重複しないように（dont add value_every here or it will be added 2 times)\n",
    "    \n",
    "        for node in graph:              #graphのkey   vs   graph[key]    こっちgraph[key]はいらない\n",
    "            graph[node][\"new\"] += value_every\n",
    "\n",
    "    for key in graph:\n",
    "        total += (graph[key][\"new\"] - graph[key][\"now\"])**2\n",
    "        graph[key][\"now\"] = graph[key][\"new\"]\n",
    "        graph[key][\"new\"] = 0\n",
    "\n",
    "    change_score = total\n",
    "    print(change_score)\n",
    "\n",
    "result = sorted(graph, key=lambda x: graph[x][\"now\"], reverse=True)\n",
    "print(result[:10])\n",
    "\n",
    "                \n",
    "                \n",
    "\n",
    "#now=link[node]からの値\n",
    "#prev/numberは自分から向いてるページへの値\n",
    "\n",
    "\n",
    "\n",
    "##重要度の高いページトップ 10 ------順番にsortした後print([:10])\n"
   ]
  },
  {
   "cell_type": "code",
   "execution_count": null,
   "id": "a8ce8ee2-f643-4c7c-a8e3-808dae36e2e2",
   "metadata": {},
   "outputs": [],
   "source": []
  },
  {
   "cell_type": "code",
   "execution_count": null,
   "id": "1f215f50-b635-4e5e-96ed-6b4265cd552d",
   "metadata": {},
   "outputs": [],
   "source": []
  }
 ],
 "metadata": {
  "kernelspec": {
   "display_name": "Python 3 (ipykernel)",
   "language": "python",
   "name": "python3"
  },
  "language_info": {
   "codemirror_mode": {
    "name": "ipython",
    "version": 3
   },
   "file_extension": ".py",
   "mimetype": "text/x-python",
   "name": "python",
   "nbconvert_exporter": "python",
   "pygments_lexer": "ipython3",
   "version": "3.12.4"
  }
 },
 "nbformat": 4,
 "nbformat_minor": 5
}
